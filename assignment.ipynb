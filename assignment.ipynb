{
 "cells": [
  {
   "cell_type": "markdown",
   "metadata": {},
   "source": [
    "                                                Conditional Statement       \n",
    "\n",
    "1. Write a program that asks the user to enter a number and checks whether the number is even or odd."
   ]
  },
  {
   "cell_type": "code",
   "execution_count": 14,
   "metadata": {},
   "outputs": [
    {
     "name": "stdout",
     "output_type": "stream",
     "text": [
      "66 is even.\n"
     ]
    }
   ],
   "source": [
    "number = int(input(\"enter a number :\"))  #enter a number:66\n",
    "if number % 2 == 0:\n",
    "    print(f\"{number} is even.\")\n",
    "else:\n",
    "    print(f\"{number} is odd.\")"
   ]
  },
  {
   "cell_type": "markdown",
   "metadata": {},
   "source": [
    "2. Write a program that ask the user to enter a number and checks whether it is positive, negative or zero."
   ]
  },
  {
   "cell_type": "code",
   "execution_count": null,
   "metadata": {},
   "outputs": [
    {
     "name": "stdout",
     "output_type": "stream",
     "text": [
      "The number is negative.\n"
     ]
    }
   ],
   "source": [
    "num = float(input(\"enter a number:\"))   # enter a number:-88\n",
    "if num>0:\n",
    "    print(\"The number is positive.\")\n",
    "elif num<0:\n",
    "    print(\"The number is negative.\")\n",
    "else:\n",
    "    print(\"The number is zero.\")"
   ]
  },
  {
   "cell_type": "markdown",
   "metadata": {},
   "source": [
    "3. Write a program that asks the user to enter their age and checks if they are eligible to vote (18 years or older)"
   ]
  },
  {
   "cell_type": "code",
   "execution_count": 7,
   "metadata": {},
   "outputs": [
    {
     "name": "stdout",
     "output_type": "stream",
     "text": [
      "You are not eligible to vote.\n"
     ]
    }
   ],
   "source": [
    "age = int(input(\"enter age:\"))    #enter a age:17\n",
    "if age>=18:\n",
    "    print(\"Your are eligible to vote.\")\n",
    "else:\n",
    "    print(\"You are not eligible to vote.\")"
   ]
  },
  {
   "cell_type": "markdown",
   "metadata": {},
   "source": [
    "4. Write a program that takes the lengths of three sides of a triangle as input and determines if the triangle is:\n",
    "   a. Equilateral (all sides are equal)\n",
    "   b. Isosceles (two sides are equal)\n",
    "   c. Scalene (all sides are different)\n"
   ]
  },
  {
   "cell_type": "code",
   "execution_count": 11,
   "metadata": {},
   "outputs": [
    {
     "name": "stdout",
     "output_type": "stream",
     "text": [
      "Scalene.\n"
     ]
    }
   ],
   "source": [
    "a = int(input(\"enter first side of a triangle:\"))   #first side:22\n",
    "b = int(input(\"enter second side of a triangle:\"))  #second side:33\n",
    "c = int (input(\"enter third side of a triangle:\"))  #third side:44\n",
    "if a == b ==c:\n",
    "    print (\"Equilateral.\")\n",
    "elif a == b or b == c or a == c:\n",
    "    print (\"Isosceles.\")\n",
    "else:\n",
    "    print (\"Scalene.\")"
   ]
  },
  {
   "cell_type": "markdown",
   "metadata": {},
   "source": [
    "5.Write a program that asks the user to enter a password and checks if it matches a predefined password."
   ]
  },
  {
   "cell_type": "code",
   "execution_count": null,
   "metadata": {},
   "outputs": [
    {
     "name": "stdout",
     "output_type": "stream",
     "text": [
      "Password is incorrect!\n"
     ]
    }
   ],
   "source": [
    "#predefined password\n",
    "predefined_password = \"Python123\"\n",
    "#password from user\n",
    "password = input (\"enter a password:\")    #enter a password:Aayush123\n",
    "if password == predefined_password:\n",
    "    print (\"Password is correct!\")\n",
    "else:\n",
    "    print (\"Password is incorrect!\")\n"
   ]
  },
  {
   "cell_type": "markdown",
   "metadata": {},
   "source": [
    "                                                         For Loops"
   ]
  },
  {
   "cell_type": "markdown",
   "metadata": {},
   "source": [
    "6. Multiplication table : Write a python program to print the multiplication table of a given number using a for loop. "
   ]
  },
  {
   "cell_type": "code",
   "execution_count": 1,
   "metadata": {},
   "outputs": [
    {
     "name": "stdout",
     "output_type": "stream",
     "text": [
      "5\n",
      "10\n",
      "15\n",
      "20\n",
      "25\n",
      "30\n",
      "35\n",
      "40\n",
      "45\n",
      "50\n"
     ]
    }
   ],
   "source": [
    "for i in range(5, 55, 5):   #start, stop, step\n",
    "        print(i)"
   ]
  },
  {
   "cell_type": "markdown",
   "metadata": {},
   "source": [
    "7.Count vowels: Write a program to count and display the number of vowels in a given string."
   ]
  },
  {
   "cell_type": "code",
   "execution_count": 5,
   "metadata": {},
   "outputs": [
    {
     "name": "stdout",
     "output_type": "stream",
     "text": [
      "The number of vowel in given string is:3\n"
     ]
    }
   ],
   "source": [
    "user_input = input(\"enter string\")    #string=aayush\n",
    "vowels = \"aeiouAEIOU\"\n",
    "count = 0\n",
    "for char in user_input:\n",
    "    if char in vowels:\n",
    "        count += 1\n",
    "\n",
    "print(f\"The number of vowel in given string is:{count}\")"
   ]
  },
  {
   "cell_type": "markdown",
   "metadata": {},
   "source": [
    "8.Sum of even numbers create a program to find the sum of all even numbers in a list using a for loop."
   ]
  },
  {
   "cell_type": "code",
   "execution_count": 7,
   "metadata": {},
   "outputs": [
    {
     "name": "stdout",
     "output_type": "stream",
     "text": [
      "The sum of all even number in the list is: 10\n"
     ]
    }
   ],
   "source": [
    "numbers = [2, 5, 8, 3]\n",
    "even_sum = 0\n",
    "for num in numbers:\n",
    "    if num % 2 == 0:\n",
    "        even_sum += num\n",
    "print(f\"The sum of all even number in the list is: {even_sum}\")"
   ]
  },
  {
   "cell_type": "markdown",
   "metadata": {},
   "source": [
    "9.Create a program to find the largest and smallest numbers in a list using a for loop.\n"
   ]
  },
  {
   "cell_type": "code",
   "execution_count": 10,
   "metadata": {},
   "outputs": [
    {
     "name": "stdout",
     "output_type": "stream",
     "text": [
      "The largest number in the list is: 20\n",
      "The smallest number in the list is: 5\n"
     ]
    }
   ],
   "source": [
    "numbers = [10, 20, 5, 8]\n",
    "largest = numbers[0]\n",
    "smallest = numbers[0]\n",
    "for num in numbers:\n",
    "    if num > largest:\n",
    "        largest = num\n",
    "    if num < smallest:\n",
    "        smallest = num\n",
    "print(f\"The largest number in the list is: {largest}\")\n",
    "print(f\"The smallest number in the list is: {smallest}\")"
   ]
  },
  {
   "cell_type": "markdown",
   "metadata": {},
   "source": [
    "10.Write a program to calculate the sum of digits of a given numbers using a for loop.\n"
   ]
  },
  {
   "cell_type": "code",
   "execution_count": 12,
   "metadata": {},
   "outputs": [
    {
     "name": "stdout",
     "output_type": "stream",
     "text": [
      "The sum of the digits of 1234 is: 10\n"
     ]
    }
   ],
   "source": [
    "number = 1234    #input\n",
    "digit_sum = 0\n",
    "for digit in str(number):\n",
    "    digit_sum += int(digit)\n",
    "print(f\"The sum of the digits of {number} is: {digit_sum}\")"
   ]
  },
  {
   "cell_type": "markdown",
   "metadata": {},
   "source": [
    "11.Write a program to reverse a given string using a for loop."
   ]
  },
  {
   "cell_type": "code",
   "execution_count": 13,
   "metadata": {},
   "outputs": [
    {
     "name": "stdout",
     "output_type": "stream",
     "text": [
      "The reversed string is: nohtyP\n"
     ]
    }
   ],
   "source": [
    "input_string = \"Python\"    #input\n",
    "reversed_string =\"\"        #initialize an empty string\n",
    "for char in input_string:\n",
    "    reversed_string = char + reversed_string\n",
    "print(f\"The reversed string is: {reversed_string}\")"
   ]
  },
  {
   "cell_type": "markdown",
   "metadata": {},
   "source": [
    "                                                                   Functions"
   ]
  },
  {
   "cell_type": "markdown",
   "metadata": {},
   "source": [
    "1.Write a function factorial (n) that returns the factorial of a number using a for loop.\n"
   ]
  },
  {
   "cell_type": "code",
   "execution_count": 11,
   "metadata": {},
   "outputs": [
    {
     "name": "stdout",
     "output_type": "stream",
     "text": [
      "Factorial of a 9 is:362880\n"
     ]
    }
   ],
   "source": [
    "def factorial(n):\n",
    "    result = 1\n",
    "    for i in range(1 , n+1):\n",
    "        result *= i\n",
    "    return result \n",
    "number = int (input(\"enter a number:\"))             #enter a number=9\n",
    "print(f\"Factorial of a {number} is:{factorial(number)}\")\n"
   ]
  },
  {
   "cell_type": "markdown",
   "metadata": {},
   "source": [
    "2.Create a function is_prime(n) to check whether a number is prime \n"
   ]
  },
  {
   "cell_type": "code",
   "execution_count": null,
   "metadata": {},
   "outputs": [
    {
     "name": "stdout",
     "output_type": "stream",
     "text": [
      "True\n"
     ]
    }
   ],
   "source": [
    "def is_prime(n):\n",
    "    if n <=1:\n",
    "        return False\n",
    "    for i in range(2, int(n **0.5) +1):\n",
    "        if n%i==0:\n",
    "            return False\n",
    "    return True \n",
    "number = int(input(\"enter a number:\"))    # enter a number:5\n",
    "if is_prime (number):\n",
    "    print(f\"True\")\n",
    "else:\n",
    "    print(f\"False\")"
   ]
  },
  {
   "cell_type": "markdown",
   "metadata": {},
   "source": [
    "3.Write a function find_max(lst) to find and return the maximum value in a list."
   ]
  },
  {
   "cell_type": "code",
   "execution_count": 16,
   "metadata": {},
   "outputs": [
    {
     "name": "stdout",
     "output_type": "stream",
     "text": [
      "7\n"
     ]
    }
   ],
   "source": [
    "def find_max(lst):\n",
    "    max_value = lst[0]\n",
    "    for num in lst:\n",
    "        if num > max_value:\n",
    "            max_value = num\n",
    "    return max_value\n",
    "numbers = [1, 3, 7, 0]\n",
    "max_value = find_max(numbers)\n",
    "print(max_value)"
   ]
  },
  {
   "cell_type": "markdown",
   "metadata": {},
   "source": [
    "4.Write a function palindrome_check(string) that returns True if the given string is a palindrome, otherwisw False."
   ]
  },
  {
   "cell_type": "code",
   "execution_count": 18,
   "metadata": {},
   "outputs": [
    {
     "name": "stdout",
     "output_type": "stream",
     "text": [
      "True\n"
     ]
    }
   ],
   "source": [
    "def palindrome_check(string):\n",
    "    return string == string[::-1]\n",
    "result = palindrome_check(\"radar\")\n",
    "print(result)"
   ]
  },
  {
   "cell_type": "markdown",
   "metadata": {},
   "source": [
    "5.Write a function sum_of_square(n) that returns the sum of squares of the first n natural numbers."
   ]
  },
  {
   "cell_type": "code",
   "execution_count": 19,
   "metadata": {},
   "outputs": [
    {
     "name": "stdout",
     "output_type": "stream",
     "text": [
      "14\n"
     ]
    }
   ],
   "source": [
    "def sum_of_square(n):\n",
    "    return sum(i**2 for i in range(1, n+1))\n",
    "result = sum_of_square(3)\n",
    "print(result)"
   ]
  },
  {
   "cell_type": "markdown",
   "metadata": {},
   "source": [
    "                                                                     Classes"
   ]
  },
  {
   "cell_type": "markdown",
   "metadata": {},
   "source": [
    "1.Define a classs rectangle with:two attributes:length and width, method area to calculate area and method perimeter to calculate perimeter."
   ]
  },
  {
   "cell_type": "code",
   "execution_count": 2,
   "metadata": {},
   "outputs": [
    {
     "name": "stdout",
     "output_type": "stream",
     "text": [
      "area of rectangle: 27\n",
      "area of perimeter: 12\n"
     ]
    }
   ],
   "source": [
    "class Rectangle:\n",
    "    def __init__(self, length, width):\n",
    "        self.length = length\n",
    "        self.width = width\n",
    "\n",
    "    def area(self):\n",
    "        return self.length * self.width      #area=length*width\n",
    "    def perimeter(self):\n",
    "        return 1 * (self.length + self.width)\n",
    "    \n",
    "rectangle = Rectangle(3,9)              #length and width = 3 and 9\n",
    "print(\"area of rectangle:\", rectangle.area())        #3*9=27\n",
    "print(\"area of perimeter:\", rectangle.perimeter())   #3+9=12"
   ]
  },
  {
   "cell_type": "markdown",
   "metadata": {},
   "source": [
    "2.Create a class student with: attributes:name, roll_number and marks, method display_details() to print the students details and method is_passed() that returns True if marks >=4, else False."
   ]
  },
  {
   "cell_type": "code",
   "execution_count": 34,
   "metadata": {},
   "outputs": [
    {
     "name": "stdout",
     "output_type": "stream",
     "text": [
      "Name:Aayush\n",
      "Roll number:38\n",
      "Marks:20\n",
      "False.\n"
     ]
    }
   ],
   "source": [
    "class Student:\n",
    "    def __init__(self, name, roll_number, marks):\n",
    "        self.name = name\n",
    "        self.roll_number = roll_number\n",
    "        self.marks = marks\n",
    "\n",
    "    def display_details(self):\n",
    "        print(f\"Name:{self.name}\")\n",
    "        print(f'Roll number:{self.roll_number}')\n",
    "        print(f\"Marks:{self.marks}\")\n",
    "\n",
    "    def is_passed(self):\n",
    "        if self.marks >= 40:\n",
    "            print(\"True.\")\n",
    "        else:\n",
    "            print(\"False.\")\n",
    "\n",
    "student1 = Student(\"Aayush\", 38, 20)\n",
    "student1.display_details()\n",
    "student1.is_passed()\n"
   ]
  },
  {
   "cell_type": "markdown",
   "metadata": {},
   "source": [
    "3.Class circle\n"
   ]
  },
  {
   "cell_type": "code",
   "execution_count": null,
   "metadata": {},
   "outputs": [
    {
     "name": "stdout",
     "output_type": "stream",
     "text": [
      "Area of circle: 314.0\n",
      "Circumference of circle: 314.0\n"
     ]
    }
   ],
   "source": [
    "class Circle:\n",
    "    def __init__(self, radius):\n",
    "        self.radius = radius \n",
    "    def area(self):\n",
    "        return 3.14 * self.radius **2        #** means square of. eg 5**2=25\n",
    "    def circumference(self):\n",
    "        return 2* .14 * self.radius\n",
    "    \n",
    "radius = float(input(\"enter the radius of the circle:\"))     #takes input from user  \n",
    "circle1 = Circle(radius)                                     #input=10\n",
    "print(\"Area of circle:\", circle1.area())\n",
    "print(\"Circumference of circle:\", circle1.area())"
   ]
  },
  {
   "cell_type": "markdown",
   "metadata": {},
   "source": [
    "4.Class BankAccount"
   ]
  },
  {
   "cell_type": "code",
   "execution_count": 15,
   "metadata": {},
   "outputs": [
    {
     "name": "stdout",
     "output_type": "stream",
     "text": [
      "Current balance: 235000\n",
      "Deposited: 10000. Current balance: 245000\n",
      "Withdrawn: 50000. Current balance: 195000\n",
      "Current balance: 195000\n"
     ]
    }
   ],
   "source": [
    "class BankAccount:\n",
    "    def __init__(self, account_number, account_holder, balance = 0):\n",
    "        self.account_number = account_number\n",
    "        self.account_holder = account_holder\n",
    "        self.balance = balance\n",
    "\n",
    "    def deposit(self, amount):\n",
    "        if amount > 0:\n",
    "            self.balance += amount\n",
    "            print(f\"Deposited: {amount}. Current balance: {self.balance}\")\n",
    "        else:\n",
    "            print(\"Deposit amount must be positive.\")\n",
    "    def withdraw(self, amount):\n",
    "        if amount > 0:\n",
    "            if amount <= self.balance:\n",
    "                self.balance -= amount\n",
    "                print(f\"Withdrawn: {amount}. Current balance: {self.balance}\")\n",
    "            else:\n",
    "                print(\"Insufficient balance.\")\n",
    "        else:\n",
    "            print(\"Withdrawl amount must be positive.\")\n",
    "    def display_balance(self):\n",
    "        print(f\"Current balance: {self.balance}\")        #current balance displays\n",
    "account1 = BankAccount(1234479000655, \"Aayush\",235000)\n",
    "account1.display_balance()   #display total balance\n",
    "account1.deposit(10000)     #deposits the amount  into account\n",
    "account1.withdraw(50000)     #withdraw money from account\n",
    "account1.display_balance()    #display the current balance after deposit and withdraw"
   ]
  },
  {
   "cell_type": "markdown",
   "metadata": {},
   "source": [
    "5.Class Book\n",
    "\n"
   ]
  },
  {
   "cell_type": "code",
   "execution_count": 7,
   "metadata": {},
   "outputs": [
    {
     "name": "stdout",
     "output_type": "stream",
     "text": [
      "Before discount:\n",
      "title: gita\n",
      "author: chandra\n",
      "price: 3000\n",
      "Discount of 10% applied. New price: 2700.0\n",
      "\n",
      "After discount:\n",
      "title: gita\n",
      "author: chandra\n",
      "price: 2700.0\n"
     ]
    }
   ],
   "source": [
    "class Book:\n",
    "    def __init__(self, title, author, price):          #initialize attributes\n",
    "        self.title = title\n",
    "        self.author = author \n",
    "        self.price = price\n",
    "    \n",
    "    def apply_discount(self, discount):\n",
    "        if 0 <= discount <=100:\n",
    "            discount_amount = (self.price * discount) / 100\n",
    "            self.price -= discount_amount\n",
    "            print(f\"Discount of {discount}% applied. New price: {self.price}\")\n",
    "        else:\n",
    "            print(\"Invalid discount percentage. It should be between 0 and 199.\")\n",
    "    def display_details(self):\n",
    "        print(f\"title: {self.title}\")\n",
    "        print(f\"author: {self.author}\")\n",
    "        print(f\"price: {self.price}\")\n",
    "book1 = Book(\"gita\", \"chandra\", 3000)\n",
    "print(\"Before discount:\")\n",
    "book1.display_details()\n",
    "book1.apply_discount(10)          #given discount=10\n",
    "print(\"\\nAfter discount:\")\n",
    "book1.display_details()"
   ]
  },
  {
   "cell_type": "markdown",
   "metadata": {},
   "source": [
    "6.Class Calculator\n"
   ]
  },
  {
   "cell_type": "code",
   "execution_count": 10,
   "metadata": {},
   "outputs": [
    {
     "name": "stdout",
     "output_type": "stream",
     "text": [
      "addition: 14\n",
      "subraction: 2\n",
      "multiplication: 36\n",
      "division: 3.0\n"
     ]
    }
   ],
   "source": [
    "class Calculator:\n",
    "    def add(self, a, b):\n",
    "        return a+b\n",
    "    def subract(self, a, b):\n",
    "        return a-b\n",
    "    def multiply(self, a, b):\n",
    "        return a*b\n",
    "    def divide(self, a, b):\n",
    "        if b==0:\n",
    "            return \"error:division by zero is not allowed!\"\n",
    "        else:\n",
    "            return a/b\n",
    "        \n",
    "calculator1 = Calculator()\n",
    "print(\"addition:\",calculator1.add(7,7))\n",
    "print(\"subraction:\",calculator1.subract(4,2))\n",
    "print(\"multiplication:\",calculator1.multiply(6,6))\n",
    "print(\"division:\",calculator1.divide(9,3))"
   ]
  },
  {
   "cell_type": "markdown",
   "metadata": {},
   "source": [
    "7.Class Person\n",
    "\n"
   ]
  },
  {
   "cell_type": "code",
   "execution_count": 12,
   "metadata": {},
   "outputs": [
    {
     "name": "stdout",
     "output_type": "stream",
     "text": [
      "Hello its me ram, I am 22 years old, and I am male.\n",
      "Hello its me rakesh, I am 18 years old, I am male and I work as a assistant.\n"
     ]
    }
   ],
   "source": [
    "class Person:\n",
    "    def __init__(self, name, age, gender):\n",
    "        self.name = name\n",
    "        self.age = age\n",
    "        self.gender = gender\n",
    "    def introduce(self):\n",
    "        print(f\"Hello its me {self.name}, I am {self.age} years old, and I am {self.gender}.\")\n",
    "class Employee(Person):\n",
    "    def __init__(self,name,age,gender,job_title):\n",
    "        super().__init__(name,age,gender)\n",
    "        self.job_title = job_title\n",
    "    def introduce(self):\n",
    "        print(f\"Hello its me {self.name}, I am {self.age} years old, I am {self.gender} and I work as a {self.job_title}.\")\n",
    "person1 = Person(\"ram\",22,\"male\") \n",
    "person1.introduce()\n",
    "employee1 = Employee(\"rakesh\",18, \"male\",\"assistant\")\n",
    "employee1. introduce()   \n"
   ]
  },
  {
   "cell_type": "markdown",
   "metadata": {},
   "source": [
    "                                                                  \n",
    "                                                                  File Handling"
   ]
  },
  {
   "cell_type": "markdown",
   "metadata": {},
   "source": [
    "1.File creation and writing"
   ]
  },
  {
   "cell_type": "code",
   "execution_count": 35,
   "metadata": {},
   "outputs": [
    {
     "name": "stdout",
     "output_type": "stream",
     "text": [
      "1\n",
      "2\n",
      "3\n",
      "4\n",
      "5\n",
      "6\n",
      "7\n",
      "8\n",
      "9\n",
      "10\n",
      "\n"
     ]
    }
   ],
   "source": [
    "file = open(\"data.txt\",\"w\")\n",
    "for number in range(1, 11):\n",
    "    file.write(f\"{number}\\n\")\n",
    "file.close()\n",
    "file = open(\"data.txt\",\"r\")\n",
    "content = file.read()\n",
    "print(content)\n",
    "file.close()\n"
   ]
  },
  {
   "cell_type": "markdown",
   "metadata": {},
   "source": [
    "2.Word count in file\n"
   ]
  },
  {
   "cell_type": "code",
   "execution_count": 48,
   "metadata": {},
   "outputs": [
    {
     "name": "stdout",
     "output_type": "stream",
     "text": [
      "Error: The file 'sample.txt' was not found.\n"
     ]
    }
   ],
   "source": [
    "try:\n",
    "    file = open('sample.txt',\"r\")       #opens the file   r=read\n",
    "    content = file.read()\n",
    "    words = content.split()\n",
    "    word_count = len(words)\n",
    "    print(f\"The number of words in 'sample.txt' is: {word_count}\")\n",
    "    file.close()                        #close file\n",
    "\n",
    "except FileNotFoundError:\n",
    "    print(\"Error: The file 'sample.txt' was not found.\")\n"
   ]
  },
  {
   "cell_type": "markdown",
   "metadata": {},
   "source": [
    "                                                              Error Handling"
   ]
  },
  {
   "cell_type": "markdown",
   "metadata": {},
   "source": [
    "1.Division with error handling\n"
   ]
  },
  {
   "cell_type": "code",
   "execution_count": 36,
   "metadata": {},
   "outputs": [
    {
     "name": "stdout",
     "output_type": "stream",
     "text": [
      "The result of 1000.0 divided by 55.0 is: 18.181818181818183.\n"
     ]
    }
   ],
   "source": [
    "a = float(input(\"enter the first number:\"))\n",
    "b = float(input(\"enter the second number:\"))\n",
    "\n",
    "try:\n",
    "    result =a/b\n",
    "except ZeroDivisionError:\n",
    "    print(\"Error: Division by zero is not allowed.\")\n",
    "else:\n",
    "    print(f\"The result of {a} divided by {b} is: {result}.\")"
   ]
  },
  {
   "cell_type": "markdown",
   "metadata": {},
   "source": [
    "2.Integer input validation"
   ]
  },
  {
   "cell_type": "code",
   "execution_count": null,
   "metadata": {},
   "outputs": [
    {
     "name": "stdout",
     "output_type": "stream",
     "text": [
      "The integer is: 99\n"
     ]
    }
   ],
   "source": [
    "user_input = input(\"enter an integer:\")\n",
    "try:\n",
    "    user_integer = int(user_input)\n",
    "except ValueError:\n",
    "    print(\"Invalid input, please enter an integer.\")     #if entered value is not an integer\n",
    "else:\n",
    "    print(f\"The integer is: {user_integer}\")             # 99 was my input value\n",
    "    \n"
   ]
  },
  {
   "cell_type": "markdown",
   "metadata": {},
   "source": [
    "3.File not found error handling"
   ]
  },
  {
   "cell_type": "code",
   "execution_count": 49,
   "metadata": {},
   "outputs": [
    {
     "name": "stdout",
     "output_type": "stream",
     "text": [
      "Error: The file 'unknown.txt' was not found.\n"
     ]
    }
   ],
   "source": [
    "try: \n",
    "    with open('unknown.txt','r') as file:\n",
    "        content = file.read()\n",
    "        print(content)\n",
    "\n",
    "except FileNotFoundError:\n",
    "    print(\"Error: The file 'unknown.txt' was not found.\")\n",
    "\n",
    "\n",
    "\n"
   ]
  }
 ],
 "metadata": {
  "kernelspec": {
   "display_name": "Python 3",
   "language": "python",
   "name": "python3"
  },
  "language_info": {
   "codemirror_mode": {
    "name": "ipython",
    "version": 3
   },
   "file_extension": ".py",
   "mimetype": "text/x-python",
   "name": "python",
   "nbconvert_exporter": "python",
   "pygments_lexer": "ipython3",
   "version": "3.13.0"
  }
 },
 "nbformat": 4,
 "nbformat_minor": 2
}
